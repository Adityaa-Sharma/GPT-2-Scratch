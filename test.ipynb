{
 "cells": [
  {
   "cell_type": "code",
   "execution_count": 31,
   "metadata": {},
   "outputs": [],
   "source": [
    "with open(\"combine_poems.txt\",encoding='utf-8') as f:\n",
    "    text = f.read()\n",
    "    \n",
    "# want to remove integers from the text\n",
    "import re\n",
    "text = re.sub(r'\\d+', '', text)\n"
   ]
  },
  {
   "cell_type": "code",
   "execution_count": 32,
   "metadata": {},
   "outputs": [
    {
     "name": "stdout",
     "output_type": "stream",
     "text": [
      "length of text:  2151083\n"
     ]
    }
   ],
   "source": [
    "print(\"length of text: \", len(text))"
   ]
  },
  {
   "cell_type": "code",
   "execution_count": 33,
   "metadata": {},
   "outputs": [
    {
     "name": "stdout",
     "output_type": "stream",
     "text": [
      "number of unique characters:  94\n",
      "characters:  \n",
      " !\"&'()*,-./:;>?ABCDEFGHIJKLMNOPQRSTUVWXYZ[]^`abcdefghijklmnopqrstuvwxyz{}~£³´ÆÔäæèéëïöŒ–—‘’‹\n"
     ]
    }
   ],
   "source": [
    "chars=sorted(list(set(text)))\n",
    "vocab_size=len(chars)\n",
    "print(\"number of unique characters: \", vocab_size)\n",
    "print(\"characters: \", ''.join(chars))"
   ]
  },
  {
   "cell_type": "code",
   "execution_count": 34,
   "metadata": {},
   "outputs": [
    {
     "name": "stdout",
     "output_type": "stream",
     "text": [
      "encoded:  [54, 51, 58, 58, 61]\n",
      "decoded:  hello\n"
     ]
    }
   ],
   "source": [
    "# stoi={ch:i for i,ch in enumerate(chars)}\n",
    "stoi={}\n",
    "for i,ch in enumerate(chars):\n",
    "    stoi[ch]=i\n",
    "    \n",
    "itos={}\n",
    "for i,ch in enumerate(chars):\n",
    "    itos[i]=ch\n",
    "# itos={i:ch for i,ch in enumerate(chars)}\n",
    "encode=lambda x: [stoi[ch] for ch in x]\n",
    "decode=lambda x: ''.join([itos[i] for i in x])\n",
    "\n",
    "print(\"encoded: \", encode(\"hello\"))\n",
    "print(\"decoded: \", decode(encode(\"hello\")))"
   ]
  },
  {
   "cell_type": "code",
   "execution_count": 35,
   "metadata": {},
   "outputs": [
    {
     "name": "stdout",
     "output_type": "stream",
     "text": [
      "shape of the data:  torch.Size([2151083])\n",
      "first 10 characters:  tensor([ 0, 32, 61, 51, 59,  1, 13,  1, 17,  1])\n"
     ]
    }
   ],
   "source": [
    "import torch\n",
    "data=torch.tensor(encode(text),dtype=torch.long)\n",
    "print(\"shape of the data: \", data.shape)\n",
    "print(\"first 10 characters: \", data[:10])"
   ]
  },
  {
   "cell_type": "code",
   "execution_count": 36,
   "metadata": {},
   "outputs": [],
   "source": [
    "n=int(0.9*len(data))\n",
    "train_data, val_data=data[:n], data[n:]"
   ]
  },
  {
   "cell_type": "code",
   "execution_count": 37,
   "metadata": {},
   "outputs": [
    {
     "data": {
      "text/plain": [
       "tensor([ 0, 32, 61, 51, 59,  1, 13,  1, 17])"
      ]
     },
     "execution_count": 37,
     "metadata": {},
     "output_type": "execute_result"
    }
   ],
   "source": [
    "# can not train the model on the entire data at once\n",
    "block_size=8\n",
    "train_data[:block_size+1] "
   ]
  },
  {
   "cell_type": "code",
   "execution_count": 38,
   "metadata": {},
   "outputs": [
    {
     "name": "stdout",
     "output_type": "stream",
     "text": [
      "tensor([ 0, 32, 61, 51, 59,  1, 13,  1])\n",
      "tensor([32, 61, 51, 59,  1, 13,  1, 17])\n"
     ]
    }
   ],
   "source": [
    "x=train_data[:block_size]\n",
    "y=train_data[1:block_size+1]\n",
    "print(x)\n",
    "print(y)"
   ]
  },
  {
   "cell_type": "code",
   "execution_count": 39,
   "metadata": {},
   "outputs": [
    {
     "name": "stdout",
     "output_type": "stream",
     "text": [
      "tensor([0]) -> tensor(32)\n",
      "tensor([ 0, 32]) -> tensor(61)\n",
      "tensor([ 0, 32, 61]) -> tensor(51)\n",
      "tensor([ 0, 32, 61, 51]) -> tensor(59)\n",
      "tensor([ 0, 32, 61, 51, 59]) -> tensor(1)\n",
      "tensor([ 0, 32, 61, 51, 59,  1]) -> tensor(13)\n",
      "tensor([ 0, 32, 61, 51, 59,  1, 13]) -> tensor(1)\n",
      "tensor([ 0, 32, 61, 51, 59,  1, 13,  1]) -> tensor(17)\n"
     ]
    }
   ],
   "source": [
    "for t in range(block_size):\n",
    "    context=x[:t+1]\n",
    "    target=y[t] # y is already one ahead of x\n",
    "    print(context, \"->\", target)"
   ]
  },
  {
   "cell_type": "code",
   "execution_count": 55,
   "metadata": {},
   "outputs": [
    {
     "name": "stdout",
     "output_type": "stream",
     "text": [
      "printing ix:  tensor([ 591169, 1051219,   82460, 1217014])\n",
      "input:\n",
      "torch.Size([4, 8])\n",
      "tensor([[59, 14,  1, 71, 61, 60,  1,  5],\n",
      "        [55, 60, 66, 61,  1, 52, 58, 47],\n",
      "        [ 1, 69, 55, 66, 54,  1, 54, 55],\n",
      "        [54, 51, 71,  1, 65, 51, 51,  1]])\n",
      "target:\n",
      "torch.Size([4, 8])\n",
      "tensor([[14,  1, 71, 61, 60,  1,  5, 65],\n",
      "        [60, 66, 61,  1, 52, 58, 47, 57],\n",
      "        [69, 55, 66, 54,  1, 54, 55, 65],\n",
      "        [51, 71,  1, 65, 51, 51,  1, 71]])\n"
     ]
    }
   ],
   "source": [
    "torch.manual_seed(1337)\n",
    "batch_size=4# how many independent streams of data we want to process in parallel\n",
    "block_size=8 # what is the sequence length of each batch,or max contxt length of the prediction\n",
    "\n",
    "def get_batch(split):\n",
    "    data=train_data if split== 'train' else val_data\n",
    "    ix=torch.randint(0,len(data)-block_size,(batch_size,))\n",
    "    print(\"printing ix: \", ix)\n",
    "\n",
    "    x=torch.stack([data[i:i+block_size] for i in ix])\n",
    "    y=torch.stack([data[i+1:i+block_size+1] for i in ix])\n",
    "    return x,y\n",
    "\n",
    "x,y=get_batch('train')\n",
    "print(\"input:\")\n",
    "print(x.shape)\n",
    "print(x)\n",
    "\n",
    "print(\"target:\")\n",
    "print(y.shape)\n",
    "print(y)\n"
   ]
  },
  {
   "cell_type": "code",
   "execution_count": 56,
   "metadata": {},
   "outputs": [
    {
     "data": {
      "text/plain": [
       "tensor(54)"
      ]
     },
     "execution_count": 56,
     "metadata": {},
     "output_type": "execute_result"
    }
   ],
   "source": [
    "train_data[808595]"
   ]
  },
  {
   "cell_type": "code",
   "execution_count": 59,
   "metadata": {},
   "outputs": [],
   "source": [
    "## implement the bigram model\n",
    "import torch\n",
    "import torch.nn as nn\n",
    "from torch.nn import functional as F\n",
    "torch.manual_seed(1337)\n",
    "\n",
    "class Bigram(nn.Module):\n",
    "    def __init__(self,vocab_size):\n",
    "        super().__init__()\n",
    "        self.token_embedding_table=nn.Embedding(vocab_size,vocab_size)\n",
    "        \n",
    "    def forward(self, idx,targets):\n",
    "        logits=self.token_embedding_table(idx) # B T C\n",
    "        # print(\"logits\", logits)\n",
    "        print(\"shape of logits: \", logits.shape)\n",
    "        # but pytorch expects B C T\n",
    "        B,T,C=logits.shape\n",
    "      \n",
    "        logits=logits.view(B*T,C)\n",
    "        print(\"shape of logits after view: \", logits.shape)\n",
    "        print(\"shape of targets: \", targets.shape)\n",
    "        targets=targets.view(B*T)\n",
    "        print(\"shape of targets: \", targets.shape)\n",
    "        loss=F.cross_entropy(logits,targets)\n",
    "        return logits,loss\n",
    "    \n",
    "\n",
    "\n"
   ]
  },
  {
   "cell_type": "code",
   "execution_count": 60,
   "metadata": {},
   "outputs": [
    {
     "name": "stdout",
     "output_type": "stream",
     "text": [
      "shape of input torch.Size([4, 8])\n",
      "shape of logits:  torch.Size([4, 8, 94])\n",
      "shape of logits after view:  torch.Size([32, 94])\n",
      "shape of targets:  torch.Size([4, 8])\n",
      "shape of targets:  torch.Size([32])\n",
      "torch.Size([32, 94])\n",
      "tensor(4.7964, grad_fn=<NllLossBackward0>)\n"
     ]
    }
   ],
   "source": [
    "m=Bigram(vocab_size)\n",
    "print(\"shape of input\", x.shape)\n",
    "logits,loss=m(x,y)\n",
    "print(logits.shape)\n",
    "print(loss)"
   ]
  },
  {
   "cell_type": "code",
   "execution_count": null,
   "metadata": {},
   "outputs": [],
   "source": []
  },
  {
   "cell_type": "code",
   "execution_count": 12,
   "metadata": {},
   "outputs": [
    {
     "data": {
      "text/plain": [
       "50257"
      ]
     },
     "execution_count": 12,
     "metadata": {},
     "output_type": "execute_result"
    }
   ],
   "source": [
    "#gpt tokenization \n",
    "import tiktoken\n",
    "encode=tiktoken.get_encoding('gpt2')\n",
    "encode.n_vocab"
   ]
  },
  {
   "cell_type": "code",
   "execution_count": null,
   "metadata": {},
   "outputs": [],
   "source": []
  }
 ],
 "metadata": {
  "kernelspec": {
   "display_name": "base",
   "language": "python",
   "name": "python3"
  },
  "language_info": {
   "codemirror_mode": {
    "name": "ipython",
    "version": 3
   },
   "file_extension": ".py",
   "mimetype": "text/x-python",
   "name": "python",
   "nbconvert_exporter": "python",
   "pygments_lexer": "ipython3",
   "version": "3.10.9"
  }
 },
 "nbformat": 4,
 "nbformat_minor": 2
}
