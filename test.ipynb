{
 "cells": [
  {
   "cell_type": "code",
   "execution_count": 7,
   "metadata": {},
   "outputs": [
    {
     "name": "stdout",
     "output_type": "stream",
     "text": [
      "Original text length: 35370769\n",
      "Cleaned text length: 33908384\n",
      "Vocabulary size: 111\n",
      "First 10 characters: ['\\t', '\\n', ' ', 'A', 'B', 'C', 'D', 'E', 'F', 'G']\n",
      "['\\t', '\\n', ' ', 'A', 'B', 'C', 'D', 'E', 'F', 'G', 'H', 'I', 'J', 'K', 'L', 'M', 'N', 'O', 'P', 'Q', 'R', 'S', 'T', 'U', 'V', 'W', 'X', 'Y', 'Z', '_', 'a', 'b', 'c', 'd', 'e', 'f', 'g', 'h', 'i', 'j', 'k', 'l', 'm', 'n', 'o', 'p', 'q', 'r', 's', 't', 'u', 'v', 'w', 'x', 'y', 'z', '\\xa0', '²', '³', '¹', '¾', 'À', 'Á', 'Ä', 'Æ', 'È', 'É', 'Ñ', 'Ô', 'Õ', 'Ü', 'Ý', 'ß', 'à', 'á', 'â', 'ã', 'ä', 'å', 'æ', 'ç', 'è', 'é', 'ê', 'ë', 'ì', 'í', 'î', 'ï', 'ð', 'ñ', 'ò', 'ó', 'ô', 'õ', 'ö', 'ù', 'ú', 'û', 'ü', 'ý', 'ÿ', 'Œ', 'œ', 'š', 'Ž', 'ž', 'ל', 'מ', 'ת', '饟']\n",
      "Tokens: [10, 34, 41, 41, 44, 2, 25, 44, 47, 41, 33]\n",
      "Decoded: Hello World\n"
     ]
    }
   ],
   "source": [
    "import re\n",
    "from Tokenization.tokenization import CharacterTokenization\n",
    "\n",
    "# Load file\n",
    "vocab_file = r\"C:\\Users\\91978\\Desktop\\GPT-2-Scratch\\dataset\\Poems.txt\"\n",
    "with open(vocab_file, \"r\", encoding=\"utf-8\") as f:\n",
    "    text = f.read()\n",
    "\n",
    "print(\"Original text length:\", len(text))\n",
    "\n",
    "text = re.sub(r'\\d+', '', text)\n",
    "#remove special characters\n",
    "text = re.sub(r'[^\\w\\s]', '', text)\n",
    "#remove greek characters\n",
    "text = re.sub(r'[α-ωΑ-Ω]', '', text)\n",
    "\n",
    "#'²', '³', '¹', '¾', 'À', 'Á', 'Ä', 'Æ remove similar characters\n",
    "\n",
    "print(\"Cleaned text length:\", len(text))\n",
    "\n",
    "# Create vocabulary from cleaned text\n",
    "vocab = sorted(list(set(text)))\n",
    "print(\"Vocabulary size:\", len(vocab))\n",
    "print(\"First 10 characters:\", vocab[:10])\n",
    "print(vocab)\n",
    "# Test tokenization\n",
    "tokenizer = CharacterTokenization(vocab)\n",
    "test_text = \"Hello World\"\n",
    "tokens = tokenizer.tokenize(test_text)\n",
    "print(\"Tokens:\", tokens)\n",
    "decoded=tokenizer.detokenize(tokens)\n",
    "print(\"Decoded:\", decoded)"
   ]
  },
  {
   "cell_type": "code",
   "execution_count": null,
   "metadata": {},
   "outputs": [],
   "source": [
    "text = re.sub(r'\\d+', '', text)\n",
    "#remove special characters\n",
    "text = re.sub(r'[^\\w\\s]', '', text)\n",
    "#remove greek characters\n",
    "text = re.sub(r'[α-ωΑ-Ω]', '', text)"
   ]
  },
  {
   "cell_type": "code",
   "execution_count": null,
   "metadata": {},
   "outputs": [],
   "source": []
  }
 ],
 "metadata": {
  "kernelspec": {
   "display_name": "base",
   "language": "python",
   "name": "python3"
  },
  "language_info": {
   "codemirror_mode": {
    "name": "ipython",
    "version": 3
   },
   "file_extension": ".py",
   "mimetype": "text/x-python",
   "name": "python",
   "nbconvert_exporter": "python",
   "pygments_lexer": "ipython3",
   "version": "3.10.9"
  }
 },
 "nbformat": 4,
 "nbformat_minor": 2
}
