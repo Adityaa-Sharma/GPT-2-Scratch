{
 "cells": [
  {
   "cell_type": "code",
   "execution_count": 31,
   "metadata": {},
   "outputs": [],
   "source": [
    "with open(\"combine_poems.txt\",encoding='utf-8') as f:\n",
    "    text = f.read()\n",
    "    \n",
    "# want to remove integers from the text\n",
    "import re\n",
    "text = re.sub(r'\\d+', '', text)\n"
   ]
  },
  {
   "cell_type": "code",
   "execution_count": 32,
   "metadata": {},
   "outputs": [
    {
     "name": "stdout",
     "output_type": "stream",
     "text": [
      "length of text:  2151083\n"
     ]
    }
   ],
   "source": [
    "print(\"length of text: \", len(text))"
   ]
  },
  {
   "cell_type": "code",
   "execution_count": 33,
   "metadata": {},
   "outputs": [
    {
     "name": "stdout",
     "output_type": "stream",
     "text": [
      "number of unique characters:  94\n",
      "characters:  \n",
      " !\"&'()*,-./:;>?ABCDEFGHIJKLMNOPQRSTUVWXYZ[]^`abcdefghijklmnopqrstuvwxyz{}~£³´ÆÔäæèéëïöŒ–—‘’‹\n"
     ]
    }
   ],
   "source": [
    "chars=sorted(list(set(text)))\n",
    "vocab_size=len(chars)\n",
    "print(\"number of unique characters: \", vocab_size)\n",
    "print(\"characters: \", ''.join(chars))"
   ]
  },
  {
   "cell_type": "code",
   "execution_count": 77,
   "metadata": {},
   "outputs": [
    {
     "name": "stdout",
     "output_type": "stream",
     "text": [
      "encoded:  [54, 51, 58, 58, 61]\n",
      "decoded:  hello\n"
     ]
    }
   ],
   "source": [
    "# stoi={ch:i for i,ch in enumerate(chars)}\n",
    "stoi={}\n",
    "for i,ch in enumerate(chars):\n",
    "    stoi[ch]=i\n",
    "    \n",
    "itos={}\n",
    "for i,ch in enumerate(chars):\n",
    "    itos[i]=ch\n",
    "# itos={i:ch for i,ch in enumerate(chars)}\n",
    "encode=lambda x: [stoi[ch] for ch in x]\n",
    "decode=lambda x: ''.join([itos[i] for i in x])\n",
    "\n",
    "print(\"encoded: \", encode(\"hello\"))\n",
    "print(\"decoded: \", decode(encode(\"hello\")))"
   ]
  },
  {
   "cell_type": "code",
   "execution_count": 35,
   "metadata": {},
   "outputs": [
    {
     "name": "stdout",
     "output_type": "stream",
     "text": [
      "shape of the data:  torch.Size([2151083])\n",
      "first 10 characters:  tensor([ 0, 32, 61, 51, 59,  1, 13,  1, 17,  1])\n"
     ]
    }
   ],
   "source": [
    "import torch\n",
    "data=torch.tensor(encode(text),dtype=torch.long)\n",
    "print(\"shape of the data: \", data.shape)\n",
    "print(\"first 10 characters: \", data[:10])"
   ]
  },
  {
   "cell_type": "code",
   "execution_count": 36,
   "metadata": {},
   "outputs": [],
   "source": [
    "n=int(0.9*len(data))\n",
    "train_data, val_data=data[:n], data[n:]"
   ]
  },
  {
   "cell_type": "code",
   "execution_count": 37,
   "metadata": {},
   "outputs": [
    {
     "data": {
      "text/plain": [
       "tensor([ 0, 32, 61, 51, 59,  1, 13,  1, 17])"
      ]
     },
     "execution_count": 37,
     "metadata": {},
     "output_type": "execute_result"
    }
   ],
   "source": [
    "# can not train the model on the entire data at once\n",
    "block_size=8\n",
    "train_data[:block_size+1] "
   ]
  },
  {
   "cell_type": "code",
   "execution_count": 38,
   "metadata": {},
   "outputs": [
    {
     "name": "stdout",
     "output_type": "stream",
     "text": [
      "tensor([ 0, 32, 61, 51, 59,  1, 13,  1])\n",
      "tensor([32, 61, 51, 59,  1, 13,  1, 17])\n"
     ]
    }
   ],
   "source": [
    "x=train_data[:block_size]\n",
    "y=train_data[1:block_size+1]\n",
    "print(x)\n",
    "print(y)"
   ]
  },
  {
   "cell_type": "code",
   "execution_count": 39,
   "metadata": {},
   "outputs": [
    {
     "name": "stdout",
     "output_type": "stream",
     "text": [
      "tensor([0]) -> tensor(32)\n",
      "tensor([ 0, 32]) -> tensor(61)\n",
      "tensor([ 0, 32, 61]) -> tensor(51)\n",
      "tensor([ 0, 32, 61, 51]) -> tensor(59)\n",
      "tensor([ 0, 32, 61, 51, 59]) -> tensor(1)\n",
      "tensor([ 0, 32, 61, 51, 59,  1]) -> tensor(13)\n",
      "tensor([ 0, 32, 61, 51, 59,  1, 13]) -> tensor(1)\n",
      "tensor([ 0, 32, 61, 51, 59,  1, 13,  1]) -> tensor(17)\n"
     ]
    }
   ],
   "source": [
    "for t in range(block_size):\n",
    "    context=x[:t+1]\n",
    "    target=y[t] # y is already one ahead of x\n",
    "    print(context, \"->\", target)"
   ]
  },
  {
   "cell_type": "code",
   "execution_count": 100,
   "metadata": {},
   "outputs": [
    {
     "name": "stdout",
     "output_type": "stream",
     "text": [
      "input:\n",
      "torch.Size([4, 8])\n",
      "tensor([[59, 14,  1, 71, 61, 60,  1,  5],\n",
      "        [55, 60, 66, 61,  1, 52, 58, 47],\n",
      "        [ 1, 69, 55, 66, 54,  1, 54, 55],\n",
      "        [54, 51, 71,  1, 65, 51, 51,  1]])\n",
      "target:\n",
      "torch.Size([4, 8])\n",
      "tensor([[14,  1, 71, 61, 60,  1,  5, 65],\n",
      "        [60, 66, 61,  1, 52, 58, 47, 57],\n",
      "        [69, 55, 66, 54,  1, 54, 55, 65],\n",
      "        [51, 71,  1, 65, 51, 51,  1, 71]])\n"
     ]
    }
   ],
   "source": [
    "torch.manual_seed(1337)\n",
    "batch_size=4# how many independent streams of data we want to process in parallel\n",
    "block_size=8 # what is the sequence length of each batch,or max contxt length of the prediction\n",
    "\n",
    "def get_batch(split):\n",
    "    data=train_data if split== 'train' else val_data\n",
    "    ix=torch.randint(0,len(data)-block_size,(batch_size,))\n",
    "    # print(\"printing ix: \", ix)\n",
    "\n",
    "    x=torch.stack([data[i:i+block_size] for i in ix])\n",
    "    y=torch.stack([data[i+1:i+block_size+1] for i in ix])\n",
    "    return x,y\n",
    "\n",
    "x,y=get_batch('train')\n",
    "print(\"input:\")\n",
    "print(x.shape)\n",
    "print(x)\n",
    "\n",
    "print(\"target:\")\n",
    "print(y.shape)\n",
    "print(y)\n"
   ]
  },
  {
   "cell_type": "code",
   "execution_count": 56,
   "metadata": {},
   "outputs": [
    {
     "data": {
      "text/plain": [
       "tensor(54)"
      ]
     },
     "execution_count": 56,
     "metadata": {},
     "output_type": "execute_result"
    }
   ],
   "source": [
    "train_data[808595]"
   ]
  },
  {
   "cell_type": "code",
   "execution_count": 101,
   "metadata": {},
   "outputs": [],
   "source": [
    "## implement the bigram model\n",
    "import torch\n",
    "import torch.nn as nn\n",
    "from torch.nn import functional as F\n",
    "torch.manual_seed(1337)\n",
    "\n",
    "class Bigram(nn.Module):\n",
    "    def __init__(self,vocab_size):\n",
    "        super().__init__() ## call the parent class constructor\n",
    "        self.token_embedding_table=nn.Embedding(vocab_size,vocab_size)\n",
    "        \n",
    "    def forward(self, idx,targets=None):\n",
    "        logits=self.token_embedding_table(idx) # B T C\n",
    "        # print(\"logits\", logits)\n",
    "        \n",
    "        if targets is None:\n",
    "            loss=None\n",
    "        else:\n",
    "            \n",
    "            # print(\"shape of logits: \", logits.shape)\n",
    "            # but pytorch expects B C T\n",
    "            B,T,C=logits.shape\n",
    "        \n",
    "            logits=logits.view(B*T,C)\n",
    "            # print(\"shape of logits after view: \", logits.shape)\n",
    "            # print(\"shape of targets: \", targets.shape)\n",
    "            targets=targets.view(B*T)\n",
    "            # print(\"shape of targets: \", targets.shape)\n",
    "            loss=F.cross_entropy(logits,targets)\n",
    "        return logits,loss\n",
    "        \n",
    "\n",
    "    def generate(self,idx,max_new_token):\n",
    "        for _ in range(max_new_token):\n",
    "            logits,loss=self(idx)\n",
    "            logits=logits[:,-1,:] #only getting the (B,C)\n",
    "            probs=F.softmax(logits,dim=-1) # B,C\n",
    "            idx_next=torch.multinomial(probs,1) # B,1\n",
    "            # print(\"idx: \", idx)\n",
    "            idx=torch.cat([idx,idx_next],dim=1)\n",
    "            \n",
    "        return idx\n"
   ]
  },
  {
   "cell_type": "code",
   "execution_count": 102,
   "metadata": {},
   "outputs": [
    {
     "name": "stdout",
     "output_type": "stream",
     "text": [
      "shape of input torch.Size([4, 8])\n",
      "torch.Size([32, 94])\n",
      "tensor(4.7964, grad_fn=<NllLossBackward0>)\n",
      "idx:  tensor([[0]])\n",
      "\n",
      "³\"\"L?/:W,)`XW’~Œswë[- dæèé{pP—G*A[M*æejQ–£DVèx‹äoŒMRr?dD–T`£kWD/ær) jfU};z–tqdbDzi‘vbDZoiga^éKw&^,{a\n"
     ]
    }
   ],
   "source": [
    "m=Bigram(vocab_size)\n",
    "print(\"shape of input\", x.shape)\n",
    "logit,loss=m(x,y)\n",
    "print(logit.shape)\n",
    "print(loss)\n",
    "\n",
    "idx=torch.zeros((1,1),dtype=torch.long)\n",
    "print(\"idx: \", idx)\n",
    "print(decode(m.generate(idx=torch.zeros((1,1),dtype=torch.long),max_new_token=100)[0].tolist())) # [0] to unlock the first tensor"
   ]
  },
  {
   "cell_type": "code",
   "execution_count": 112,
   "metadata": {},
   "outputs": [
    {
     "name": "stdout",
     "output_type": "stream",
     "text": [
      "loss:  2.516305685043335\n"
     ]
    }
   ],
   "source": [
    "# optimizer\n",
    "optimizer=torch.optim.Adam(m.parameters(),lr=1e-3)\n",
    "batch_size=32\n",
    "for steps in range(1000):\n",
    "    xb,yb=get_batch('train')\n",
    "    logits,loss=m(xb,yb)\n",
    "    optimizer.zero_grad(set_to_none=True)\n",
    "    loss.backward()\n",
    "    optimizer.step()\n",
    "print(\"loss: \", loss.item())"
   ]
  },
  {
   "cell_type": "code",
   "execution_count": 115,
   "metadata": {},
   "outputs": [
    {
     "name": "stdout",
     "output_type": "stream",
     "text": [
      "\n",
      "\n",
      "\n",
      " \"Slacoorowoubure pleve\n",
      "\n",
      "Thalis de wisand  omatht;PYï‘ht g pls n athe wor\n",
      "\n",
      "\n",
      "\n",
      "Arrratchj,  ndars\n",
      "\n",
      "Au\n"
     ]
    }
   ],
   "source": [
    "print(decode(m.generate(idx=torch.zeros((1,1),dtype=torch.long),max_new_token=100)[0].tolist()))"
   ]
  },
  {
   "cell_type": "code",
   "execution_count": null,
   "metadata": {},
   "outputs": [],
   "source": []
  },
  {
   "cell_type": "code",
   "execution_count": 12,
   "metadata": {},
   "outputs": [
    {
     "data": {
      "text/plain": [
       "50257"
      ]
     },
     "execution_count": 12,
     "metadata": {},
     "output_type": "execute_result"
    }
   ],
   "source": [
    "#gpt tokenization \n",
    "import tiktoken\n",
    "encode=tiktoken.get_encoding('gpt2')\n",
    "encode.n_vocab"
   ]
  },
  {
   "cell_type": "code",
   "execution_count": 116,
   "metadata": {},
   "outputs": [
    {
     "data": {
      "text/plain": [
       "torch.Size([4, 8, 2])"
      ]
     },
     "execution_count": 116,
     "metadata": {},
     "output_type": "execute_result"
    }
   ],
   "source": [
    "## self attention\n",
    "import torch\n",
    "torch\n",
    "B,T,C=4,8,2\n",
    "x=torch.randn(B,T,C)\n",
    "x.shape"
   ]
  },
  {
   "cell_type": "code",
   "execution_count": 117,
   "metadata": {},
   "outputs": [],
   "source": [
    "xbow=torch.zeros((B,T,C))\n",
    "for b in range(B):\n",
    "    for t in range(T):\n",
    "        xprev=x[b,:t+1] # (t,C)\n",
    "        xbow[b,t]=torch.mean(xprev,dim=0)"
   ]
  },
  {
   "cell_type": "code",
   "execution_count": 118,
   "metadata": {},
   "outputs": [
    {
     "data": {
      "text/plain": [
       "tensor([[ 1.3646, -0.3629],\n",
       "        [ 0.3509,  0.0096],\n",
       "        [-0.3019,  0.8705],\n",
       "        [ 0.5402,  0.3682],\n",
       "        [ 0.0183, -0.0471],\n",
       "        [-0.1879, -0.2887],\n",
       "        [ 2.0596, -1.2550],\n",
       "        [ 0.6449, -0.8334]])"
      ]
     },
     "execution_count": 118,
     "metadata": {},
     "output_type": "execute_result"
    }
   ],
   "source": [
    "x[0]"
   ]
  },
  {
   "cell_type": "code",
   "execution_count": 119,
   "metadata": {},
   "outputs": [
    {
     "data": {
      "text/plain": [
       "tensor([[ 1.3646, -0.3629],\n",
       "        [ 0.8578, -0.1767],\n",
       "        [ 0.4712,  0.1724],\n",
       "        [ 0.4885,  0.2214],\n",
       "        [ 0.3944,  0.1677],\n",
       "        [ 0.2974,  0.0916],\n",
       "        [ 0.5491, -0.1008],\n",
       "        [ 0.5611, -0.1923]])"
      ]
     },
     "execution_count": 119,
     "metadata": {},
     "output_type": "execute_result"
    }
   ],
   "source": [
    "xbow[0] # vertical average "
   ]
  },
  {
   "cell_type": "code",
   "execution_count": 122,
   "metadata": {},
   "outputs": [
    {
     "name": "stdout",
     "output_type": "stream",
     "text": [
      "a=\n",
      "tensor([[1.0000, 0.0000, 0.0000],\n",
      "        [0.5000, 0.5000, 0.0000],\n",
      "        [0.3333, 0.3333, 0.3333]])\n",
      "b=\n",
      "tensor([[5., 7.],\n",
      "        [2., 0.],\n",
      "        [5., 3.]])\n",
      "c=\n",
      "tensor([[5.0000, 7.0000],\n",
      "        [3.5000, 3.5000],\n",
      "        [4.0000, 3.3333]])\n"
     ]
    }
   ],
   "source": [
    "torch.manual_seed(1337)\n",
    "a=torch.tril(torch.ones(3,3))\n",
    "a=a/torch.sum(a,dim=1,keepdim=True)\n",
    "b=torch.randint(0,10,(3,2)).float()\n",
    "c=a@b\n",
    "\n",
    "print('a=')\n",
    "print(a)\n",
    "print('b=') \n",
    "print(b)\n",
    "print('c=')\n",
    "print(c)"
   ]
  },
  {
   "cell_type": "code",
   "execution_count": 125,
   "metadata": {},
   "outputs": [
    {
     "data": {
      "text/plain": [
       "tensor([[ 1.3646, -0.3629],\n",
       "        [ 0.8578, -0.1767],\n",
       "        [ 0.4712,  0.1724],\n",
       "        [ 0.4885,  0.2214],\n",
       "        [ 0.3944,  0.1677],\n",
       "        [ 0.2974,  0.0916],\n",
       "        [ 0.5491, -0.1008],\n",
       "        [ 0.5611, -0.1923]])"
      ]
     },
     "execution_count": 125,
     "metadata": {},
     "output_type": "execute_result"
    }
   ],
   "source": [
    "totril=torch.tril(torch.ones(T,T))\n",
    "wei=torch.zeros((T,T))\n",
    "wei=wei.masked_fill(totril==0,float('-inf'))\n",
    "wei=F.softmax(wei,dim=1)\n",
    "xbow=wei@x\n",
    "xbow[0]"
   ]
  },
  {
   "cell_type": "code",
   "execution_count": 146,
   "metadata": {},
   "outputs": [
    {
     "data": {
      "text/plain": [
       "torch.Size([4, 8, 16])"
      ]
     },
     "execution_count": 146,
     "metadata": {},
     "output_type": "execute_result"
    }
   ],
   "source": [
    "# self attention improved version\n",
    "torch.manual_seed(1337)\n",
    "B,T,C=4,8,32\n",
    "x=torch.randn(B,T,C)\n",
    "\n",
    "head_size=16\n",
    "key=nn.Linear(C,head_size,bias=False)\n",
    "query=nn.Linear(C,head_size,bias=False)\n",
    "value=nn.Linear(C,head_size,bias=False)\n",
    "k=key(x) # B T 16\n",
    "q=query(x) # B T 16\n",
    "wei=q @ k.transpose(-2,-1) # (B,T,16) @ (B,16,T) ----> B T T\n",
    "\n",
    "tril=torch.tril(torch.ones(T,T))\n",
    "# wei=torch.zeros((T,T))\n",
    "wei=wei.masked_fill(tril==0,float('-inf'))\n",
    "wei=F.softmax(wei,dim=-1)\n",
    "\n",
    "v=value(x) # B T 16\n",
    "out=wei@v\n",
    "\n",
    "out.shape\n",
    "\n"
   ]
  },
  {
   "cell_type": "code",
   "execution_count": 147,
   "metadata": {},
   "outputs": [
    {
     "data": {
      "text/plain": [
       "tensor([[1.0000, 0.0000, 0.0000, 0.0000, 0.0000, 0.0000, 0.0000, 0.0000],\n",
       "        [0.1574, 0.8426, 0.0000, 0.0000, 0.0000, 0.0000, 0.0000, 0.0000],\n",
       "        [0.2088, 0.1646, 0.6266, 0.0000, 0.0000, 0.0000, 0.0000, 0.0000],\n",
       "        [0.5792, 0.1187, 0.1889, 0.1131, 0.0000, 0.0000, 0.0000, 0.0000],\n",
       "        [0.0294, 0.1052, 0.0469, 0.0276, 0.7909, 0.0000, 0.0000, 0.0000],\n",
       "        [0.0176, 0.2689, 0.0215, 0.0089, 0.6812, 0.0019, 0.0000, 0.0000],\n",
       "        [0.1691, 0.4066, 0.0438, 0.0416, 0.1048, 0.2012, 0.0329, 0.0000],\n",
       "        [0.0210, 0.0843, 0.0555, 0.2297, 0.0573, 0.0709, 0.2423, 0.2391]],\n",
       "       grad_fn=<SelectBackward0>)"
      ]
     },
     "execution_count": 147,
     "metadata": {},
     "output_type": "execute_result"
    }
   ],
   "source": [
    "wei[0]"
   ]
  },
  {
   "cell_type": "code",
   "execution_count": null,
   "metadata": {},
   "outputs": [],
   "source": []
  },
  {
   "cell_type": "code",
   "execution_count": null,
   "metadata": {},
   "outputs": [],
   "source": []
  }
 ],
 "metadata": {
  "kernelspec": {
   "display_name": "base",
   "language": "python",
   "name": "python3"
  },
  "language_info": {
   "codemirror_mode": {
    "name": "ipython",
    "version": 3
   },
   "file_extension": ".py",
   "mimetype": "text/x-python",
   "name": "python",
   "nbconvert_exporter": "python",
   "pygments_lexer": "ipython3",
   "version": "3.10.9"
  }
 },
 "nbformat": 4,
 "nbformat_minor": 2
}
